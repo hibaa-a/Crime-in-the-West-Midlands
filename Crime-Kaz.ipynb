{
 "cells": [
  {
   "cell_type": "code",
   "execution_count": 147,
   "metadata": {},
   "outputs": [],
   "source": [
    "# Importing Dependencies\n",
    "import pandas as pd\n",
    "import numpy as np\n",
    "import matplotlib.pyplot as plt"
   ]
  },
  {
   "cell_type": "code",
   "execution_count": 148,
   "metadata": {},
   "outputs": [],
   "source": [
    "# Creating a reference to the CSV files\n",
    "twentyone_csv = \"Resources/CSV files/2021-08-west-midlands-street.csv\"\n",
    "twenty_csv = \"Resources/CSV files/2020-08-west-midlands-street.csv\"\n",
    "\n",
    "# Importing the CSV files into a pandas DataFrame\n",
    "twentyone_df = pd.read_csv(twentyone_csv)\n",
    "twenty_df = pd.read_csv(twenty_csv)"
   ]
  },
  {
   "cell_type": "code",
   "execution_count": 149,
   "metadata": {},
   "outputs": [
    {
     "data": {
      "text/html": [
       "<div>\n",
       "<style scoped>\n",
       "    .dataframe tbody tr th:only-of-type {\n",
       "        vertical-align: middle;\n",
       "    }\n",
       "\n",
       "    .dataframe tbody tr th {\n",
       "        vertical-align: top;\n",
       "    }\n",
       "\n",
       "    .dataframe thead th {\n",
       "        text-align: right;\n",
       "    }\n",
       "</style>\n",
       "<table border=\"1\" class=\"dataframe\">\n",
       "  <thead>\n",
       "    <tr style=\"text-align: right;\">\n",
       "      <th></th>\n",
       "      <th>Crime ID</th>\n",
       "      <th>Month</th>\n",
       "      <th>Reported by</th>\n",
       "      <th>Falls within</th>\n",
       "      <th>Longitude</th>\n",
       "      <th>Latitude</th>\n",
       "      <th>Location</th>\n",
       "      <th>LSOA code</th>\n",
       "      <th>LSOA name</th>\n",
       "      <th>Crime type</th>\n",
       "      <th>Last outcome category</th>\n",
       "      <th>Context</th>\n",
       "    </tr>\n",
       "  </thead>\n",
       "  <tbody>\n",
       "    <tr>\n",
       "      <th>0</th>\n",
       "      <td>5e70cb1ff89df7fb6f4579a18cef84ab0529c9e077c229...</td>\n",
       "      <td>2020-08</td>\n",
       "      <td>West Midlands Police</td>\n",
       "      <td>West Midlands Police</td>\n",
       "      <td>-0.195929</td>\n",
       "      <td>51.668072</td>\n",
       "      <td>On or near Greenacre Close</td>\n",
       "      <td>E01000254</td>\n",
       "      <td>Barnet 001D</td>\n",
       "      <td>Public order</td>\n",
       "      <td>Unable to prosecute suspect</td>\n",
       "      <td>NaN</td>\n",
       "    </tr>\n",
       "    <tr>\n",
       "      <th>1</th>\n",
       "      <td>b70a6e6bb122531fb9e87fedb6ab19115364b97ba3adab...</td>\n",
       "      <td>2020-08</td>\n",
       "      <td>West Midlands Police</td>\n",
       "      <td>West Midlands Police</td>\n",
       "      <td>-0.192425</td>\n",
       "      <td>51.640933</td>\n",
       "      <td>On or near Sports/Recreation Area</td>\n",
       "      <td>E01000279</td>\n",
       "      <td>Barnet 007C</td>\n",
       "      <td>Public order</td>\n",
       "      <td>Investigation complete; no suspect identified</td>\n",
       "      <td>NaN</td>\n",
       "    </tr>\n",
       "    <tr>\n",
       "      <th>2</th>\n",
       "      <td>4a4a7f67480a71be7bc6028c68b9b33fee5a75a0ffb20a...</td>\n",
       "      <td>2020-08</td>\n",
       "      <td>West Midlands Police</td>\n",
       "      <td>West Midlands Police</td>\n",
       "      <td>-0.195913</td>\n",
       "      <td>51.621132</td>\n",
       "      <td>On or near Shortgate</td>\n",
       "      <td>E01000276</td>\n",
       "      <td>Barnet 020A</td>\n",
       "      <td>Robbery</td>\n",
       "      <td>Investigation complete; no suspect identified</td>\n",
       "      <td>NaN</td>\n",
       "    </tr>\n",
       "    <tr>\n",
       "      <th>3</th>\n",
       "      <td>7aeed0fbd880da12ee8a6ae698bf2785a94aec8c28084e...</td>\n",
       "      <td>2020-08</td>\n",
       "      <td>West Midlands Police</td>\n",
       "      <td>West Midlands Police</td>\n",
       "      <td>-0.195812</td>\n",
       "      <td>51.589451</td>\n",
       "      <td>On or near Falloden Way</td>\n",
       "      <td>E01000211</td>\n",
       "      <td>Barnet 035C</td>\n",
       "      <td>Robbery</td>\n",
       "      <td>Unable to prosecute suspect</td>\n",
       "      <td>NaN</td>\n",
       "    </tr>\n",
       "    <tr>\n",
       "      <th>4</th>\n",
       "      <td>9f50cd3c8c235cbf8b4cb27d379e3dcabfcb7957d0ac32...</td>\n",
       "      <td>2020-08</td>\n",
       "      <td>West Midlands Police</td>\n",
       "      <td>West Midlands Police</td>\n",
       "      <td>-0.199223</td>\n",
       "      <td>51.568533</td>\n",
       "      <td>On or near Dunstan Road</td>\n",
       "      <td>E01000146</td>\n",
       "      <td>Barnet 038D</td>\n",
       "      <td>Public order</td>\n",
       "      <td>Investigation complete; no suspect identified</td>\n",
       "      <td>NaN</td>\n",
       "    </tr>\n",
       "  </tbody>\n",
       "</table>\n",
       "</div>"
      ],
      "text/plain": [
       "                                            Crime ID    Month  \\\n",
       "0  5e70cb1ff89df7fb6f4579a18cef84ab0529c9e077c229...  2020-08   \n",
       "1  b70a6e6bb122531fb9e87fedb6ab19115364b97ba3adab...  2020-08   \n",
       "2  4a4a7f67480a71be7bc6028c68b9b33fee5a75a0ffb20a...  2020-08   \n",
       "3  7aeed0fbd880da12ee8a6ae698bf2785a94aec8c28084e...  2020-08   \n",
       "4  9f50cd3c8c235cbf8b4cb27d379e3dcabfcb7957d0ac32...  2020-08   \n",
       "\n",
       "            Reported by          Falls within  Longitude   Latitude  \\\n",
       "0  West Midlands Police  West Midlands Police  -0.195929  51.668072   \n",
       "1  West Midlands Police  West Midlands Police  -0.192425  51.640933   \n",
       "2  West Midlands Police  West Midlands Police  -0.195913  51.621132   \n",
       "3  West Midlands Police  West Midlands Police  -0.195812  51.589451   \n",
       "4  West Midlands Police  West Midlands Police  -0.199223  51.568533   \n",
       "\n",
       "                            Location  LSOA code    LSOA name    Crime type  \\\n",
       "0         On or near Greenacre Close  E01000254  Barnet 001D  Public order   \n",
       "1  On or near Sports/Recreation Area  E01000279  Barnet 007C  Public order   \n",
       "2               On or near Shortgate  E01000276  Barnet 020A       Robbery   \n",
       "3            On or near Falloden Way  E01000211  Barnet 035C       Robbery   \n",
       "4            On or near Dunstan Road  E01000146  Barnet 038D  Public order   \n",
       "\n",
       "                           Last outcome category  Context  \n",
       "0                    Unable to prosecute suspect      NaN  \n",
       "1  Investigation complete; no suspect identified      NaN  \n",
       "2  Investigation complete; no suspect identified      NaN  \n",
       "3                    Unable to prosecute suspect      NaN  \n",
       "4  Investigation complete; no suspect identified      NaN  "
      ]
     },
     "execution_count": 149,
     "metadata": {},
     "output_type": "execute_result"
    }
   ],
   "source": [
    "main_df=pd.merge(twenty_df,twentyone_df,on=(\"Crime ID\",\"Crime type\",\"Falls within\",\"Reported by\",\"Location\",\"LSOA code\",\"Longitude\",\"Latitude\",\"LSOA code\",\"LSOA name\",\"Last outcome category\",\"Context\",\"Month\"),how=\"outer\")\n",
    "main_df.head()\n"
   ]
  },
  {
   "cell_type": "code",
   "execution_count": 150,
   "metadata": {},
   "outputs": [],
   "source": [
    "main_df.drop(\"Falls within\",inplace=True,axis=1)\n",
    "main_df.drop(\"Reported by\",inplace=True,axis=1)\n",
    "main_df.drop(\"LSOA code\",inplace=True,axis=1)\n",
    "main_df.drop(\"LSOA name\",inplace=True,axis=1)\n",
    "main_df.drop(\"Context\",inplace=True,axis=1)\n"
   ]
  },
  {
   "cell_type": "code",
   "execution_count": 151,
   "metadata": {},
   "outputs": [
    {
     "data": {
      "text/html": [
       "<div>\n",
       "<style scoped>\n",
       "    .dataframe tbody tr th:only-of-type {\n",
       "        vertical-align: middle;\n",
       "    }\n",
       "\n",
       "    .dataframe tbody tr th {\n",
       "        vertical-align: top;\n",
       "    }\n",
       "\n",
       "    .dataframe thead th {\n",
       "        text-align: right;\n",
       "    }\n",
       "</style>\n",
       "<table border=\"1\" class=\"dataframe\">\n",
       "  <thead>\n",
       "    <tr style=\"text-align: right;\">\n",
       "      <th></th>\n",
       "      <th>Crime ID</th>\n",
       "      <th>Month</th>\n",
       "      <th>Longitude</th>\n",
       "      <th>Latitude</th>\n",
       "      <th>Location</th>\n",
       "      <th>Crime type</th>\n",
       "      <th>Last outcome category</th>\n",
       "    </tr>\n",
       "  </thead>\n",
       "  <tbody>\n",
       "    <tr>\n",
       "      <th>0</th>\n",
       "      <td>5e70cb1ff89df7fb6f4579a18cef84ab0529c9e077c229...</td>\n",
       "      <td>2020-08</td>\n",
       "      <td>-0.195929</td>\n",
       "      <td>51.668072</td>\n",
       "      <td>On or near Greenacre Close</td>\n",
       "      <td>Public order</td>\n",
       "      <td>Unable to prosecute suspect</td>\n",
       "    </tr>\n",
       "    <tr>\n",
       "      <th>1</th>\n",
       "      <td>b70a6e6bb122531fb9e87fedb6ab19115364b97ba3adab...</td>\n",
       "      <td>2020-08</td>\n",
       "      <td>-0.192425</td>\n",
       "      <td>51.640933</td>\n",
       "      <td>On or near Sports/Recreation Area</td>\n",
       "      <td>Public order</td>\n",
       "      <td>Investigation complete; no suspect identified</td>\n",
       "    </tr>\n",
       "    <tr>\n",
       "      <th>2</th>\n",
       "      <td>4a4a7f67480a71be7bc6028c68b9b33fee5a75a0ffb20a...</td>\n",
       "      <td>2020-08</td>\n",
       "      <td>-0.195913</td>\n",
       "      <td>51.621132</td>\n",
       "      <td>On or near Shortgate</td>\n",
       "      <td>Robbery</td>\n",
       "      <td>Investigation complete; no suspect identified</td>\n",
       "    </tr>\n",
       "    <tr>\n",
       "      <th>3</th>\n",
       "      <td>7aeed0fbd880da12ee8a6ae698bf2785a94aec8c28084e...</td>\n",
       "      <td>2020-08</td>\n",
       "      <td>-0.195812</td>\n",
       "      <td>51.589451</td>\n",
       "      <td>On or near Falloden Way</td>\n",
       "      <td>Robbery</td>\n",
       "      <td>Unable to prosecute suspect</td>\n",
       "    </tr>\n",
       "    <tr>\n",
       "      <th>4</th>\n",
       "      <td>9f50cd3c8c235cbf8b4cb27d379e3dcabfcb7957d0ac32...</td>\n",
       "      <td>2020-08</td>\n",
       "      <td>-0.199223</td>\n",
       "      <td>51.568533</td>\n",
       "      <td>On or near Dunstan Road</td>\n",
       "      <td>Public order</td>\n",
       "      <td>Investigation complete; no suspect identified</td>\n",
       "    </tr>\n",
       "    <tr>\n",
       "      <th>...</th>\n",
       "      <td>...</td>\n",
       "      <td>...</td>\n",
       "      <td>...</td>\n",
       "      <td>...</td>\n",
       "      <td>...</td>\n",
       "      <td>...</td>\n",
       "      <td>...</td>\n",
       "    </tr>\n",
       "    <tr>\n",
       "      <th>60541</th>\n",
       "      <td>cc37e1ce372d715d1eeabedc1b871f1b6d2dafb48a72af...</td>\n",
       "      <td>2021-08</td>\n",
       "      <td>-2.119642</td>\n",
       "      <td>52.580480</td>\n",
       "      <td>On or near Sutherland Place</td>\n",
       "      <td>Violence and sexual offences</td>\n",
       "      <td>Unable to prosecute suspect</td>\n",
       "    </tr>\n",
       "    <tr>\n",
       "      <th>60542</th>\n",
       "      <td>4034e3f4b6b0cb3c35880eb8d456ead4da2bdcf79c1bf2...</td>\n",
       "      <td>2021-08</td>\n",
       "      <td>-2.125507</td>\n",
       "      <td>52.582650</td>\n",
       "      <td>On or near Shopping Area</td>\n",
       "      <td>Violence and sexual offences</td>\n",
       "      <td>Status update unavailable</td>\n",
       "    </tr>\n",
       "    <tr>\n",
       "      <th>60543</th>\n",
       "      <td>c944868c57ea55fa6163567d96d68de94f637b6578ee09...</td>\n",
       "      <td>2021-08</td>\n",
       "      <td>-2.120034</td>\n",
       "      <td>52.577954</td>\n",
       "      <td>On or near All Saints Road</td>\n",
       "      <td>Violence and sexual offences</td>\n",
       "      <td>Unable to prosecute suspect</td>\n",
       "    </tr>\n",
       "    <tr>\n",
       "      <th>60544</th>\n",
       "      <td>f7d6e81113bfd9e37124e4a99e401d1934e3830e92dc1f...</td>\n",
       "      <td>2021-08</td>\n",
       "      <td>-2.125507</td>\n",
       "      <td>52.582650</td>\n",
       "      <td>On or near Shopping Area</td>\n",
       "      <td>Violence and sexual offences</td>\n",
       "      <td>Unable to prosecute suspect</td>\n",
       "    </tr>\n",
       "    <tr>\n",
       "      <th>60545</th>\n",
       "      <td>d636b92cfc7ff15f24f15ef2a6f6c04763fdf8f899cd0f...</td>\n",
       "      <td>2021-08</td>\n",
       "      <td>-2.116401</td>\n",
       "      <td>52.582677</td>\n",
       "      <td>On or near York Street</td>\n",
       "      <td>Other crime</td>\n",
       "      <td>Investigation complete; no suspect identified</td>\n",
       "    </tr>\n",
       "  </tbody>\n",
       "</table>\n",
       "<p>60546 rows × 7 columns</p>\n",
       "</div>"
      ],
      "text/plain": [
       "                                                Crime ID    Month  Longitude  \\\n",
       "0      5e70cb1ff89df7fb6f4579a18cef84ab0529c9e077c229...  2020-08  -0.195929   \n",
       "1      b70a6e6bb122531fb9e87fedb6ab19115364b97ba3adab...  2020-08  -0.192425   \n",
       "2      4a4a7f67480a71be7bc6028c68b9b33fee5a75a0ffb20a...  2020-08  -0.195913   \n",
       "3      7aeed0fbd880da12ee8a6ae698bf2785a94aec8c28084e...  2020-08  -0.195812   \n",
       "4      9f50cd3c8c235cbf8b4cb27d379e3dcabfcb7957d0ac32...  2020-08  -0.199223   \n",
       "...                                                  ...      ...        ...   \n",
       "60541  cc37e1ce372d715d1eeabedc1b871f1b6d2dafb48a72af...  2021-08  -2.119642   \n",
       "60542  4034e3f4b6b0cb3c35880eb8d456ead4da2bdcf79c1bf2...  2021-08  -2.125507   \n",
       "60543  c944868c57ea55fa6163567d96d68de94f637b6578ee09...  2021-08  -2.120034   \n",
       "60544  f7d6e81113bfd9e37124e4a99e401d1934e3830e92dc1f...  2021-08  -2.125507   \n",
       "60545  d636b92cfc7ff15f24f15ef2a6f6c04763fdf8f899cd0f...  2021-08  -2.116401   \n",
       "\n",
       "        Latitude                           Location  \\\n",
       "0      51.668072         On or near Greenacre Close   \n",
       "1      51.640933  On or near Sports/Recreation Area   \n",
       "2      51.621132               On or near Shortgate   \n",
       "3      51.589451            On or near Falloden Way   \n",
       "4      51.568533            On or near Dunstan Road   \n",
       "...          ...                                ...   \n",
       "60541  52.580480        On or near Sutherland Place   \n",
       "60542  52.582650           On or near Shopping Area   \n",
       "60543  52.577954         On or near All Saints Road   \n",
       "60544  52.582650           On or near Shopping Area   \n",
       "60545  52.582677             On or near York Street   \n",
       "\n",
       "                         Crime type  \\\n",
       "0                      Public order   \n",
       "1                      Public order   \n",
       "2                           Robbery   \n",
       "3                           Robbery   \n",
       "4                      Public order   \n",
       "...                             ...   \n",
       "60541  Violence and sexual offences   \n",
       "60542  Violence and sexual offences   \n",
       "60543  Violence and sexual offences   \n",
       "60544  Violence and sexual offences   \n",
       "60545                   Other crime   \n",
       "\n",
       "                               Last outcome category  \n",
       "0                        Unable to prosecute suspect  \n",
       "1      Investigation complete; no suspect identified  \n",
       "2      Investigation complete; no suspect identified  \n",
       "3                        Unable to prosecute suspect  \n",
       "4      Investigation complete; no suspect identified  \n",
       "...                                              ...  \n",
       "60541                    Unable to prosecute suspect  \n",
       "60542                      Status update unavailable  \n",
       "60543                    Unable to prosecute suspect  \n",
       "60544                    Unable to prosecute suspect  \n",
       "60545  Investigation complete; no suspect identified  \n",
       "\n",
       "[60546 rows x 7 columns]"
      ]
     },
     "execution_count": 151,
     "metadata": {},
     "output_type": "execute_result"
    }
   ],
   "source": [
    "main_df"
   ]
  },
  {
   "cell_type": "code",
   "execution_count": 152,
   "metadata": {},
   "outputs": [
    {
     "data": {
      "text/html": [
       "<div>\n",
       "<style scoped>\n",
       "    .dataframe tbody tr th:only-of-type {\n",
       "        vertical-align: middle;\n",
       "    }\n",
       "\n",
       "    .dataframe tbody tr th {\n",
       "        vertical-align: top;\n",
       "    }\n",
       "\n",
       "    .dataframe thead th {\n",
       "        text-align: right;\n",
       "    }\n",
       "</style>\n",
       "<table border=\"1\" class=\"dataframe\">\n",
       "  <thead>\n",
       "    <tr style=\"text-align: right;\">\n",
       "      <th></th>\n",
       "      <th>Crime ID</th>\n",
       "      <th>Month</th>\n",
       "      <th>Longitude</th>\n",
       "      <th>Latitude</th>\n",
       "      <th>Location</th>\n",
       "      <th>Crime type</th>\n",
       "      <th>Last outcome category</th>\n",
       "    </tr>\n",
       "  </thead>\n",
       "  <tbody>\n",
       "    <tr>\n",
       "      <th>0</th>\n",
       "      <td>5e70cb1ff89df7fb6f4579a18cef84ab0529c9e077c229...</td>\n",
       "      <td>2020-08</td>\n",
       "      <td>-0.195929</td>\n",
       "      <td>51.668072</td>\n",
       "      <td>On or near Greenacre Close</td>\n",
       "      <td>Public order</td>\n",
       "      <td>Unable to prosecute suspect</td>\n",
       "    </tr>\n",
       "    <tr>\n",
       "      <th>1</th>\n",
       "      <td>b70a6e6bb122531fb9e87fedb6ab19115364b97ba3adab...</td>\n",
       "      <td>2020-08</td>\n",
       "      <td>-0.192425</td>\n",
       "      <td>51.640933</td>\n",
       "      <td>On or near Sports/Recreation Area</td>\n",
       "      <td>Public order</td>\n",
       "      <td>Investigation complete; no suspect identified</td>\n",
       "    </tr>\n",
       "    <tr>\n",
       "      <th>2</th>\n",
       "      <td>4a4a7f67480a71be7bc6028c68b9b33fee5a75a0ffb20a...</td>\n",
       "      <td>2020-08</td>\n",
       "      <td>-0.195913</td>\n",
       "      <td>51.621132</td>\n",
       "      <td>On or near Shortgate</td>\n",
       "      <td>Robbery</td>\n",
       "      <td>Investigation complete; no suspect identified</td>\n",
       "    </tr>\n",
       "    <tr>\n",
       "      <th>3</th>\n",
       "      <td>7aeed0fbd880da12ee8a6ae698bf2785a94aec8c28084e...</td>\n",
       "      <td>2020-08</td>\n",
       "      <td>-0.195812</td>\n",
       "      <td>51.589451</td>\n",
       "      <td>On or near Falloden Way</td>\n",
       "      <td>Robbery</td>\n",
       "      <td>Unable to prosecute suspect</td>\n",
       "    </tr>\n",
       "    <tr>\n",
       "      <th>4</th>\n",
       "      <td>9f50cd3c8c235cbf8b4cb27d379e3dcabfcb7957d0ac32...</td>\n",
       "      <td>2020-08</td>\n",
       "      <td>-0.199223</td>\n",
       "      <td>51.568533</td>\n",
       "      <td>On or near Dunstan Road</td>\n",
       "      <td>Public order</td>\n",
       "      <td>Investigation complete; no suspect identified</td>\n",
       "    </tr>\n",
       "    <tr>\n",
       "      <th>...</th>\n",
       "      <td>...</td>\n",
       "      <td>...</td>\n",
       "      <td>...</td>\n",
       "      <td>...</td>\n",
       "      <td>...</td>\n",
       "      <td>...</td>\n",
       "      <td>...</td>\n",
       "    </tr>\n",
       "    <tr>\n",
       "      <th>60541</th>\n",
       "      <td>cc37e1ce372d715d1eeabedc1b871f1b6d2dafb48a72af...</td>\n",
       "      <td>2021-08</td>\n",
       "      <td>-2.119642</td>\n",
       "      <td>52.580480</td>\n",
       "      <td>On or near Sutherland Place</td>\n",
       "      <td>Violence and sexual offences</td>\n",
       "      <td>Unable to prosecute suspect</td>\n",
       "    </tr>\n",
       "    <tr>\n",
       "      <th>60542</th>\n",
       "      <td>4034e3f4b6b0cb3c35880eb8d456ead4da2bdcf79c1bf2...</td>\n",
       "      <td>2021-08</td>\n",
       "      <td>-2.125507</td>\n",
       "      <td>52.582650</td>\n",
       "      <td>On or near Shopping Area</td>\n",
       "      <td>Violence and sexual offences</td>\n",
       "      <td>Status update unavailable</td>\n",
       "    </tr>\n",
       "    <tr>\n",
       "      <th>60543</th>\n",
       "      <td>c944868c57ea55fa6163567d96d68de94f637b6578ee09...</td>\n",
       "      <td>2021-08</td>\n",
       "      <td>-2.120034</td>\n",
       "      <td>52.577954</td>\n",
       "      <td>On or near All Saints Road</td>\n",
       "      <td>Violence and sexual offences</td>\n",
       "      <td>Unable to prosecute suspect</td>\n",
       "    </tr>\n",
       "    <tr>\n",
       "      <th>60544</th>\n",
       "      <td>f7d6e81113bfd9e37124e4a99e401d1934e3830e92dc1f...</td>\n",
       "      <td>2021-08</td>\n",
       "      <td>-2.125507</td>\n",
       "      <td>52.582650</td>\n",
       "      <td>On or near Shopping Area</td>\n",
       "      <td>Violence and sexual offences</td>\n",
       "      <td>Unable to prosecute suspect</td>\n",
       "    </tr>\n",
       "    <tr>\n",
       "      <th>60545</th>\n",
       "      <td>d636b92cfc7ff15f24f15ef2a6f6c04763fdf8f899cd0f...</td>\n",
       "      <td>2021-08</td>\n",
       "      <td>-2.116401</td>\n",
       "      <td>52.582677</td>\n",
       "      <td>On or near York Street</td>\n",
       "      <td>Other crime</td>\n",
       "      <td>Investigation complete; no suspect identified</td>\n",
       "    </tr>\n",
       "  </tbody>\n",
       "</table>\n",
       "<p>53090 rows × 7 columns</p>\n",
       "</div>"
      ],
      "text/plain": [
       "                                                Crime ID    Month  Longitude  \\\n",
       "0      5e70cb1ff89df7fb6f4579a18cef84ab0529c9e077c229...  2020-08  -0.195929   \n",
       "1      b70a6e6bb122531fb9e87fedb6ab19115364b97ba3adab...  2020-08  -0.192425   \n",
       "2      4a4a7f67480a71be7bc6028c68b9b33fee5a75a0ffb20a...  2020-08  -0.195913   \n",
       "3      7aeed0fbd880da12ee8a6ae698bf2785a94aec8c28084e...  2020-08  -0.195812   \n",
       "4      9f50cd3c8c235cbf8b4cb27d379e3dcabfcb7957d0ac32...  2020-08  -0.199223   \n",
       "...                                                  ...      ...        ...   \n",
       "60541  cc37e1ce372d715d1eeabedc1b871f1b6d2dafb48a72af...  2021-08  -2.119642   \n",
       "60542  4034e3f4b6b0cb3c35880eb8d456ead4da2bdcf79c1bf2...  2021-08  -2.125507   \n",
       "60543  c944868c57ea55fa6163567d96d68de94f637b6578ee09...  2021-08  -2.120034   \n",
       "60544  f7d6e81113bfd9e37124e4a99e401d1934e3830e92dc1f...  2021-08  -2.125507   \n",
       "60545  d636b92cfc7ff15f24f15ef2a6f6c04763fdf8f899cd0f...  2021-08  -2.116401   \n",
       "\n",
       "        Latitude                           Location  \\\n",
       "0      51.668072         On or near Greenacre Close   \n",
       "1      51.640933  On or near Sports/Recreation Area   \n",
       "2      51.621132               On or near Shortgate   \n",
       "3      51.589451            On or near Falloden Way   \n",
       "4      51.568533            On or near Dunstan Road   \n",
       "...          ...                                ...   \n",
       "60541  52.580480        On or near Sutherland Place   \n",
       "60542  52.582650           On or near Shopping Area   \n",
       "60543  52.577954         On or near All Saints Road   \n",
       "60544  52.582650           On or near Shopping Area   \n",
       "60545  52.582677             On or near York Street   \n",
       "\n",
       "                         Crime type  \\\n",
       "0                      Public order   \n",
       "1                      Public order   \n",
       "2                           Robbery   \n",
       "3                           Robbery   \n",
       "4                      Public order   \n",
       "...                             ...   \n",
       "60541  Violence and sexual offences   \n",
       "60542  Violence and sexual offences   \n",
       "60543  Violence and sexual offences   \n",
       "60544  Violence and sexual offences   \n",
       "60545                   Other crime   \n",
       "\n",
       "                               Last outcome category  \n",
       "0                        Unable to prosecute suspect  \n",
       "1      Investigation complete; no suspect identified  \n",
       "2      Investigation complete; no suspect identified  \n",
       "3                        Unable to prosecute suspect  \n",
       "4      Investigation complete; no suspect identified  \n",
       "...                                              ...  \n",
       "60541                    Unable to prosecute suspect  \n",
       "60542                      Status update unavailable  \n",
       "60543                    Unable to prosecute suspect  \n",
       "60544                    Unable to prosecute suspect  \n",
       "60545  Investigation complete; no suspect identified  \n",
       "\n",
       "[53090 rows x 7 columns]"
      ]
     },
     "execution_count": 152,
     "metadata": {},
     "output_type": "execute_result"
    }
   ],
   "source": [
    "main_df.dropna()\n",
    "\n",
    "\n"
   ]
  },
  {
   "cell_type": "code",
   "execution_count": 153,
   "metadata": {},
   "outputs": [
    {
     "name": "stdout",
     "output_type": "stream",
     "text": [
      "Fully recorded crimes in August 2020: 23644\n"
     ]
    }
   ],
   "source": [
    "main_df.loc[main_df[\"Month\"]==\"2020-08\"][\"Crime ID\"].count()\n",
    "print(\"Fully recorded crimes in August 2020:\",main_df.loc[main_df[\"Month\"]==\"2020-08\"][\"Crime ID\"].count())"
   ]
  },
  {
   "cell_type": "code",
   "execution_count": 154,
   "metadata": {},
   "outputs": [
    {
     "name": "stdout",
     "output_type": "stream",
     "text": [
      "Fully recorded crimes in August 2021: 29446\n"
     ]
    }
   ],
   "source": [
    "main_df.loc[main_df[\"Month\"]==\"2021-08\"][\"Crime ID\"].count()\n",
    "print(\"Fully recorded crimes in August 2021:\",main_df.loc[main_df[\"Month\"]==\"2021-08\"][\"Crime ID\"].count())"
   ]
  },
  {
   "cell_type": "code",
   "execution_count": 155,
   "metadata": {},
   "outputs": [
    {
     "data": {
      "image/png": "[encoded data removed]",
      "text/plain": [
       "<Figure size 432x288 with 1 Axes>"
      ]
     },
     "metadata": {
      "needs_background": "light"
     },
     "output_type": "display_data"
    }
   ],
   "source": [
    "comparison={\n",
    "    \"2020\":main_df.loc[main_df[\"Month\"]==\"2020-08\"][\"Crime ID\"].count(),\n",
    "    \"2021\":main_df.loc[main_df[\"Month\"]==\"2021-08\"][\"Crime ID\"].count()\n",
    "}\n",
    "comparison=pd.DataFrame([comparison])\n",
    "comparison.plot(kind=\"bar\")\n",
    "plt.show()"
   ]
  },
  {
   "cell_type": "code",
   "execution_count": 156,
   "metadata": {},
   "outputs": [
    {
     "data": {
      "text/plain": [
       "array(['Public order', 'Robbery', 'Anti-social behaviour',\n",
       "       'Vehicle crime', 'Bicycle theft', 'Other theft',\n",
       "       'Violence and sexual offences', 'Other crime', 'Burglary',\n",
       "       'Criminal damage and arson', 'Drugs', 'Shoplifting',\n",
       "       'Possession of weapons', 'Theft from the person'], dtype=object)"
      ]
     },
     "execution_count": 156,
     "metadata": {},
     "output_type": "execute_result"
    }
   ],
   "source": [
    "main_df[\"Crime type\"].unique()"
   ]
  },
  {
   "cell_type": "code",
   "execution_count": 157,
   "metadata": {},
   "outputs": [],
   "source": [
    "type_of_crime=main_df.groupby(\"Crime type\")"
   ]
  },
  {
   "cell_type": "code",
   "execution_count": 158,
   "metadata": {},
   "outputs": [
    {
     "data": {
      "text/plain": [
       "Crime type\n",
       "Anti-social behaviour            7456\n",
       "Bicycle theft                     472\n",
       "Burglary                         3278\n",
       "Criminal damage and arson        4604\n",
       "Drugs                             968\n",
       "Other crime                       979\n",
       "Other theft                      3177\n",
       "Possession of weapons             835\n",
       "Public order                     5322\n",
       "Robbery                          1266\n",
       "Shoplifting                      2133\n",
       "Theft from the person             461\n",
       "Vehicle crime                    4610\n",
       "Violence and sexual offences    24985\n",
       "Name: Crime type, dtype: int64"
      ]
     },
     "execution_count": 158,
     "metadata": {},
     "output_type": "execute_result"
    }
   ],
   "source": [
    "type_of_crime[\"Crime type\"].count()"
   ]
  },
  {
   "cell_type": "code",
   "execution_count": 159,
   "metadata": {},
   "outputs": [],
   "source": [
    "type_of_crime2020=main_df.loc[main_df[\"Month\"]==\"2020-08\"].groupby(\"Crime type\")\n",
    "count2020=type_of_crime2020[\"Crime type\"].count()"
   ]
  },
  {
   "cell_type": "code",
   "execution_count": 161,
   "metadata": {},
   "outputs": [
    {
     "data": {
      "text/plain": [
       "Crime type\n",
       "Violence and sexual offences    11000\n",
       "Anti-social behaviour            4807\n",
       "Public order                     2281\n",
       "Criminal damage and arson        2179\n",
       "Vehicle crime                    2067\n",
       "Name: 2020, dtype: int64"
      ]
     },
     "execution_count": 161,
     "metadata": {},
     "output_type": "execute_result"
    }
   ],
   "source": [
    "type_of_crimes2020=main_df.loc[main_df[\"Month\"]==\"2020-08\"].groupby(\"Crime type\")\n",
    "count2020=type_of_crimes2020[\"Crime type\"].count()\n",
    "\n",
    "type_of_crimes2021=main_df.loc[main_df[\"Month\"]==\"2021-08\"].groupby(\"Crime type\")\n",
    "count2021=type_of_crimes2021[\"Crime type\"].count()\n",
    "\n",
    "type_of_crimes_combined={\"2021\":count2021,\n",
    "                         \"2020\":count2020\n",
    "}\n",
    "type_of_crimes_combined=pd.DataFrame(type_of_crimes_combined)\n",
    "type_of_crimes_combined\n",
    "\n",
    "type_of_crimes_combined['2021'].nlargest(n=5)\n",
    "\n",
    "\n",
    "\n",
    "\n",
    "\n",
    "\n",
    "type_of_crimes_combined['2020'].nlargest(n=5)\n",
    "\n",
    "\n",
    "\n",
    "\n",
    "\n",
    "\n",
    "\n"
   ]
  },
  {
   "cell_type": "code",
   "execution_count": 162,
   "metadata": {},
   "outputs": [],
   "source": [
    "type_of_crime2021=main_df.loc[main_df[\"Month\"]==\"2021-08\"].groupby(\"Crime type\")\n",
    "count2021=type_of_crime2021[\"Crime type\"].count()"
   ]
  },
  {
   "cell_type": "code",
   "execution_count": 163,
   "metadata": {},
   "outputs": [
    {
     "data": {
      "text/html": [
       "<div>\n",
       "<style scoped>\n",
       "    .dataframe tbody tr th:only-of-type {\n",
       "        vertical-align: middle;\n",
       "    }\n",
       "\n",
       "    .dataframe tbody tr th {\n",
       "        vertical-align: top;\n",
       "    }\n",
       "\n",
       "    .dataframe thead th {\n",
       "        text-align: right;\n",
       "    }\n",
       "</style>\n",
       "<table border=\"1\" class=\"dataframe\">\n",
       "  <thead>\n",
       "    <tr style=\"text-align: right;\">\n",
       "      <th></th>\n",
       "      <th>2021</th>\n",
       "      <th>2020</th>\n",
       "    </tr>\n",
       "    <tr>\n",
       "      <th>Crime type</th>\n",
       "      <th></th>\n",
       "      <th></th>\n",
       "    </tr>\n",
       "  </thead>\n",
       "  <tbody>\n",
       "    <tr>\n",
       "      <th>Anti-social behaviour</th>\n",
       "      <td>2649</td>\n",
       "      <td>4807</td>\n",
       "    </tr>\n",
       "    <tr>\n",
       "      <th>Bicycle theft</th>\n",
       "      <td>263</td>\n",
       "      <td>209</td>\n",
       "    </tr>\n",
       "    <tr>\n",
       "      <th>Burglary</th>\n",
       "      <td>1670</td>\n",
       "      <td>1608</td>\n",
       "    </tr>\n",
       "    <tr>\n",
       "      <th>Criminal damage and arson</th>\n",
       "      <td>2425</td>\n",
       "      <td>2179</td>\n",
       "    </tr>\n",
       "    <tr>\n",
       "      <th>Drugs</th>\n",
       "      <td>533</td>\n",
       "      <td>435</td>\n",
       "    </tr>\n",
       "    <tr>\n",
       "      <th>Other crime</th>\n",
       "      <td>558</td>\n",
       "      <td>421</td>\n",
       "    </tr>\n",
       "    <tr>\n",
       "      <th>Other theft</th>\n",
       "      <td>1776</td>\n",
       "      <td>1401</td>\n",
       "    </tr>\n",
       "    <tr>\n",
       "      <th>Possession of weapons</th>\n",
       "      <td>535</td>\n",
       "      <td>300</td>\n",
       "    </tr>\n",
       "    <tr>\n",
       "      <th>Public order</th>\n",
       "      <td>3041</td>\n",
       "      <td>2281</td>\n",
       "    </tr>\n",
       "    <tr>\n",
       "      <th>Robbery</th>\n",
       "      <td>634</td>\n",
       "      <td>632</td>\n",
       "    </tr>\n",
       "    <tr>\n",
       "      <th>Shoplifting</th>\n",
       "      <td>1184</td>\n",
       "      <td>949</td>\n",
       "    </tr>\n",
       "    <tr>\n",
       "      <th>Theft from the person</th>\n",
       "      <td>299</td>\n",
       "      <td>162</td>\n",
       "    </tr>\n",
       "    <tr>\n",
       "      <th>Vehicle crime</th>\n",
       "      <td>2543</td>\n",
       "      <td>2067</td>\n",
       "    </tr>\n",
       "    <tr>\n",
       "      <th>Violence and sexual offences</th>\n",
       "      <td>13985</td>\n",
       "      <td>11000</td>\n",
       "    </tr>\n",
       "  </tbody>\n",
       "</table>\n",
       "</div>"
      ],
      "text/plain": [
       "                               2021   2020\n",
       "Crime type                                \n",
       "Anti-social behaviour          2649   4807\n",
       "Bicycle theft                   263    209\n",
       "Burglary                       1670   1608\n",
       "Criminal damage and arson      2425   2179\n",
       "Drugs                           533    435\n",
       "Other crime                     558    421\n",
       "Other theft                    1776   1401\n",
       "Possession of weapons           535    300\n",
       "Public order                   3041   2281\n",
       "Robbery                         634    632\n",
       "Shoplifting                    1184    949\n",
       "Theft from the person           299    162\n",
       "Vehicle crime                  2543   2067\n",
       "Violence and sexual offences  13985  11000"
      ]
     },
     "execution_count": 163,
     "metadata": {},
     "output_type": "execute_result"
    }
   ],
   "source": [
    "type_of_crimes_combined={\"2021\":count2021,\n",
    "                         \"2020\":count2020\n",
    "}\n",
    "type_of_crimes_combined=pd.DataFrame(type_of_crimes_combined)\n",
    "type_of_crimes_combined"
   ]
  },
  {
   "cell_type": "code",
   "execution_count": 164,
   "metadata": {},
   "outputs": [
    {
     "data": {
      "text/plain": [
       "Crime type\n",
       "Violence and sexual offences    11000\n",
       "Anti-social behaviour            4807\n",
       "Public order                     2281\n",
       "Criminal damage and arson        2179\n",
       "Vehicle crime                    2067\n",
       "Name: 2020, dtype: int64"
      ]
     },
     "execution_count": 164,
     "metadata": {},
     "output_type": "execute_result"
    }
   ],
   "source": [
    "top_5_2020= type_of_crimes_combined['2020'].nlargest(n=5)\n",
    "top_5_2020"
   ]
  },
  {
   "cell_type": "code",
   "execution_count": 165,
   "metadata": {},
   "outputs": [
    {
     "data": {
      "text/plain": [
       "Crime type\n",
       "Violence and sexual offences    13985\n",
       "Public order                     3041\n",
       "Anti-social behaviour            2649\n",
       "Vehicle crime                    2543\n",
       "Criminal damage and arson        2425\n",
       "Name: 2021, dtype: int64"
      ]
     },
     "execution_count": 165,
     "metadata": {},
     "output_type": "execute_result"
    }
   ],
   "source": [
    "top_5_2021=type_of_crimes_combined['2021'].nlargest(n=5)\n",
    "top_5_2021"
   ]
  },
  {
   "cell_type": "code",
   "execution_count": 166,
   "metadata": {},
   "outputs": [
    {
     "data": {
      "text/html": [
       "<div>\n",
       "<style scoped>\n",
       "    .dataframe tbody tr th:only-of-type {\n",
       "        vertical-align: middle;\n",
       "    }\n",
       "\n",
       "    .dataframe tbody tr th {\n",
       "        vertical-align: top;\n",
       "    }\n",
       "\n",
       "    .dataframe thead th {\n",
       "        text-align: right;\n",
       "    }\n",
       "</style>\n",
       "<table border=\"1\" class=\"dataframe\">\n",
       "  <thead>\n",
       "    <tr style=\"text-align: right;\">\n",
       "      <th></th>\n",
       "      <th>2020</th>\n",
       "      <th>2021</th>\n",
       "    </tr>\n",
       "    <tr>\n",
       "      <th>Crime type</th>\n",
       "      <th></th>\n",
       "      <th></th>\n",
       "    </tr>\n",
       "  </thead>\n",
       "  <tbody>\n",
       "    <tr>\n",
       "      <th>Anti-social behaviour</th>\n",
       "      <td>4807</td>\n",
       "      <td>2649</td>\n",
       "    </tr>\n",
       "    <tr>\n",
       "      <th>Criminal damage and arson</th>\n",
       "      <td>2179</td>\n",
       "      <td>2425</td>\n",
       "    </tr>\n",
       "    <tr>\n",
       "      <th>Public order</th>\n",
       "      <td>2281</td>\n",
       "      <td>3041</td>\n",
       "    </tr>\n",
       "    <tr>\n",
       "      <th>Vehicle crime</th>\n",
       "      <td>2067</td>\n",
       "      <td>2543</td>\n",
       "    </tr>\n",
       "    <tr>\n",
       "      <th>Violence and sexual offences</th>\n",
       "      <td>11000</td>\n",
       "      <td>13985</td>\n",
       "    </tr>\n",
       "  </tbody>\n",
       "</table>\n",
       "</div>"
      ],
      "text/plain": [
       "                               2020   2021\n",
       "Crime type                                \n",
       "Anti-social behaviour          4807   2649\n",
       "Criminal damage and arson      2179   2425\n",
       "Public order                   2281   3041\n",
       "Vehicle crime                  2067   2543\n",
       "Violence and sexual offences  11000  13985"
      ]
     },
     "execution_count": 166,
     "metadata": {},
     "output_type": "execute_result"
    }
   ],
   "source": [
    "top_5_type_of_crimes_combined={\"2020\":top_5_2020,\n",
    "                         \"2021\":top_5_2021\n",
    "}\n",
    "top_5_type_of_crimes_combined=pd.DataFrame(top_5_type_of_crimes_combined)\n",
    "top_5_type_of_crimes_combined\n"
   ]
  },
  {
   "cell_type": "code",
   "execution_count": 167,
   "metadata": {},
   "outputs": [
    {
     "data": {
      "text/plain": [
       "<AxesSubplot:xlabel='Crime type'>"
      ]
     },
     "execution_count": 167,
     "metadata": {},
     "output_type": "execute_result"
    },
    {
     "data": {
      "image/png": "[encoded data removed]",
      "text/plain": [
       "<Figure size 432x288 with 1 Axes>"
      ]
     },
     "metadata": {
      "needs_background": "light"
     },
     "output_type": "display_data"
    }
   ],
   "source": [
    "top_5_type_of_crimes_combined.plot(kind=\"bar\")"
   ]
  },
  {
   "cell_type": "code",
   "execution_count": 168,
   "metadata": {},
   "outputs": [
    {
     "data": {
      "text/plain": [
       "<AxesSubplot:ylabel='2020'>"
      ]
     },
     "execution_count": 168,
     "metadata": {},
     "output_type": "execute_result"
    },
    {
     "data": {
      "image/png": "[encoded data removed]",
      "text/plain": [
       "<Figure size 432x288 with 1 Axes>"
      ]
     },
     "metadata": {},
     "output_type": "display_data"
    }
   ],
   "source": [
    "top_5_2020.plot(kind=\"pie\")"
   ]
  },
  {
   "cell_type": "code",
   "execution_count": 169,
   "metadata": {},
   "outputs": [
    {
     "data": {
      "text/plain": [
       "<AxesSubplot:ylabel='2021'>"
      ]
     },
     "execution_count": 169,
     "metadata": {},
     "output_type": "execute_result"
    },
    {
     "data": {
      "image/png": "[encoded data removed]",
      "text/plain": [
       "<Figure size 432x288 with 1 Axes>"
      ]
     },
     "metadata": {},
     "output_type": "display_data"
    }
   ],
   "source": [
    "top_5_2021.plot(kind=\"pie\")"
   ]
  },
  {
   "cell_type": "code",
   "execution_count": 170,
   "metadata": {},
   "outputs": [
    {
     "data": {
      "text/plain": [
       "Last outcome category\n",
       "Action to be taken by another organisation               234\n",
       "Awaiting court outcome                                    17\n",
       "Court result unavailable                                1398\n",
       "Formal action is not in the public interest               64\n",
       "Further action is not in the public interest               1\n",
       "Further investigation is not in the public interest       20\n",
       "Investigation complete; no suspect identified          11376\n",
       "Local resolution                                         174\n",
       "Offender given a caution                                 165\n",
       "Offender given a drugs possession warning                 59\n",
       "Offender given penalty notice                              6\n",
       "Status update unavailable                                484\n",
       "Suspect charged as part of another case                    3\n",
       "Unable to prosecute suspect                             9643\n",
       "Name: Last outcome category, dtype: int64"
      ]
     },
     "execution_count": 170,
     "metadata": {},
     "output_type": "execute_result"
    }
   ],
   "source": [
    "outcome2020=main_df.loc[main_df[\"Month\"]==\"2020-08\"].groupby(\"Last outcome category\")\n",
    "outcome2020=outcome2020[\"Last outcome category\"].count()\n",
    "outcome2020"
   ]
  },
  {
   "cell_type": "code",
   "execution_count": 171,
   "metadata": {},
   "outputs": [
    {
     "data": {
      "text/plain": [
       "Last outcome category\n",
       "Action to be taken by another organisation               261\n",
       "Awaiting court outcome                                   112\n",
       "Court result unavailable                                 818\n",
       "Formal action is not in the public interest                9\n",
       "Further action is not in the public interest              15\n",
       "Further investigation is not in the public interest       24\n",
       "Investigation complete; no suspect identified          13307\n",
       "Local resolution                                         276\n",
       "Offender given a caution                                 106\n",
       "Status update unavailable                               1218\n",
       "Suspect charged as part of another case                    1\n",
       "Unable to prosecute suspect                            13299\n",
       "Name: Last outcome category, dtype: int64"
      ]
     },
     "execution_count": 171,
     "metadata": {},
     "output_type": "execute_result"
    }
   ],
   "source": [
    "outcome2021=main_df.loc[main_df[\"Month\"]==\"2021-08\"].groupby(\"Last outcome category\")\n",
    "outcome2021=outcome2021[\"Last outcome category\"].count()\n",
    "outcome2021"
   ]
  },
  {
   "cell_type": "code",
   "execution_count": 172,
   "metadata": {},
   "outputs": [
    {
     "data": {
      "text/html": [
       "<div>\n",
       "<style scoped>\n",
       "    .dataframe tbody tr th:only-of-type {\n",
       "        vertical-align: middle;\n",
       "    }\n",
       "\n",
       "    .dataframe tbody tr th {\n",
       "        vertical-align: top;\n",
       "    }\n",
       "\n",
       "    .dataframe thead th {\n",
       "        text-align: right;\n",
       "    }\n",
       "</style>\n",
       "<table border=\"1\" class=\"dataframe\">\n",
       "  <thead>\n",
       "    <tr style=\"text-align: right;\">\n",
       "      <th></th>\n",
       "      <th>2021</th>\n",
       "      <th>2020</th>\n",
       "    </tr>\n",
       "    <tr>\n",
       "      <th>Last outcome category</th>\n",
       "      <th></th>\n",
       "      <th></th>\n",
       "    </tr>\n",
       "  </thead>\n",
       "  <tbody>\n",
       "    <tr>\n",
       "      <th>Action to be taken by another organisation</th>\n",
       "      <td>261.0</td>\n",
       "      <td>234</td>\n",
       "    </tr>\n",
       "    <tr>\n",
       "      <th>Awaiting court outcome</th>\n",
       "      <td>112.0</td>\n",
       "      <td>17</td>\n",
       "    </tr>\n",
       "    <tr>\n",
       "      <th>Court result unavailable</th>\n",
       "      <td>818.0</td>\n",
       "      <td>1398</td>\n",
       "    </tr>\n",
       "    <tr>\n",
       "      <th>Formal action is not in the public interest</th>\n",
       "      <td>9.0</td>\n",
       "      <td>64</td>\n",
       "    </tr>\n",
       "    <tr>\n",
       "      <th>Further action is not in the public interest</th>\n",
       "      <td>15.0</td>\n",
       "      <td>1</td>\n",
       "    </tr>\n",
       "    <tr>\n",
       "      <th>Further investigation is not in the public interest</th>\n",
       "      <td>24.0</td>\n",
       "      <td>20</td>\n",
       "    </tr>\n",
       "    <tr>\n",
       "      <th>Investigation complete; no suspect identified</th>\n",
       "      <td>13307.0</td>\n",
       "      <td>11376</td>\n",
       "    </tr>\n",
       "    <tr>\n",
       "      <th>Local resolution</th>\n",
       "      <td>276.0</td>\n",
       "      <td>174</td>\n",
       "    </tr>\n",
       "    <tr>\n",
       "      <th>Offender given a caution</th>\n",
       "      <td>106.0</td>\n",
       "      <td>165</td>\n",
       "    </tr>\n",
       "    <tr>\n",
       "      <th>Offender given a drugs possession warning</th>\n",
       "      <td>NaN</td>\n",
       "      <td>59</td>\n",
       "    </tr>\n",
       "    <tr>\n",
       "      <th>Offender given penalty notice</th>\n",
       "      <td>NaN</td>\n",
       "      <td>6</td>\n",
       "    </tr>\n",
       "    <tr>\n",
       "      <th>Status update unavailable</th>\n",
       "      <td>1218.0</td>\n",
       "      <td>484</td>\n",
       "    </tr>\n",
       "    <tr>\n",
       "      <th>Suspect charged as part of another case</th>\n",
       "      <td>1.0</td>\n",
       "      <td>3</td>\n",
       "    </tr>\n",
       "    <tr>\n",
       "      <th>Unable to prosecute suspect</th>\n",
       "      <td>13299.0</td>\n",
       "      <td>9643</td>\n",
       "    </tr>\n",
       "  </tbody>\n",
       "</table>\n",
       "</div>"
      ],
      "text/plain": [
       "                                                       2021   2020\n",
       "Last outcome category                                             \n",
       "Action to be taken by another organisation            261.0    234\n",
       "Awaiting court outcome                                112.0     17\n",
       "Court result unavailable                              818.0   1398\n",
       "Formal action is not in the public interest             9.0     64\n",
       "Further action is not in the public interest           15.0      1\n",
       "Further investigation is not in the public inte...     24.0     20\n",
       "Investigation complete; no suspect identified       13307.0  11376\n",
       "Local resolution                                      276.0    174\n",
       "Offender given a caution                              106.0    165\n",
       "Offender given a drugs possession warning               NaN     59\n",
       "Offender given penalty notice                           NaN      6\n",
       "Status update unavailable                            1218.0    484\n",
       "Suspect charged as part of another case                 1.0      3\n",
       "Unable to prosecute suspect                         13299.0   9643"
      ]
     },
     "execution_count": 172,
     "metadata": {},
     "output_type": "execute_result"
    }
   ],
   "source": [
    "outcome_combined={\"2021\":outcome2021,\n",
    "                \"2020\":outcome2020\n",
    "}\n",
    "outcome_combined=pd.DataFrame(outcome_combined)\n",
    "outcome_combined"
   ]
  },
  {
   "cell_type": "code",
   "execution_count": 173,
   "metadata": {},
   "outputs": [
    {
     "data": {
      "text/plain": [
       "Last outcome category\n",
       "Investigation complete; no suspect identified    13307.0\n",
       "Unable to prosecute suspect                      13299.0\n",
       "Status update unavailable                         1218.0\n",
       "Court result unavailable                           818.0\n",
       "Local resolution                                   276.0\n",
       "Name: 2021, dtype: float64"
      ]
     },
     "execution_count": 173,
     "metadata": {},
     "output_type": "execute_result"
    }
   ],
   "source": [
    "outcome_combined_top_5_2021=outcome_combined['2021'].nlargest(n=5)\n",
    "outcome_combined_top_5_2021"
   ]
  },
  {
   "cell_type": "code",
   "execution_count": 174,
   "metadata": {},
   "outputs": [
    {
     "data": {
      "text/plain": [
       "Last outcome category\n",
       "Investigation complete; no suspect identified    11376\n",
       "Unable to prosecute suspect                       9643\n",
       "Court result unavailable                          1398\n",
       "Status update unavailable                          484\n",
       "Action to be taken by another organisation         234\n",
       "Name: 2020, dtype: int64"
      ]
     },
     "execution_count": 174,
     "metadata": {},
     "output_type": "execute_result"
    }
   ],
   "source": [
    "outcome_combined_top_5_2020=outcome_combined['2020'].nlargest(n=5)\n",
    "outcome_combined_top_5_2020"
   ]
  },
  {
   "cell_type": "code",
   "execution_count": 175,
   "metadata": {},
   "outputs": [
    {
     "data": {
      "text/html": [
       "<div>\n",
       "<style scoped>\n",
       "    .dataframe tbody tr th:only-of-type {\n",
       "        vertical-align: middle;\n",
       "    }\n",
       "\n",
       "    .dataframe tbody tr th {\n",
       "        vertical-align: top;\n",
       "    }\n",
       "\n",
       "    .dataframe thead th {\n",
       "        text-align: right;\n",
       "    }\n",
       "</style>\n",
       "<table border=\"1\" class=\"dataframe\">\n",
       "  <thead>\n",
       "    <tr style=\"text-align: right;\">\n",
       "      <th></th>\n",
       "      <th>2020</th>\n",
       "      <th>2021</th>\n",
       "    </tr>\n",
       "    <tr>\n",
       "      <th>Last outcome category</th>\n",
       "      <th></th>\n",
       "      <th></th>\n",
       "    </tr>\n",
       "  </thead>\n",
       "  <tbody>\n",
       "    <tr>\n",
       "      <th>Action to be taken by another organisation</th>\n",
       "      <td>234.0</td>\n",
       "      <td>NaN</td>\n",
       "    </tr>\n",
       "    <tr>\n",
       "      <th>Court result unavailable</th>\n",
       "      <td>1398.0</td>\n",
       "      <td>818.0</td>\n",
       "    </tr>\n",
       "    <tr>\n",
       "      <th>Investigation complete; no suspect identified</th>\n",
       "      <td>11376.0</td>\n",
       "      <td>13307.0</td>\n",
       "    </tr>\n",
       "    <tr>\n",
       "      <th>Local resolution</th>\n",
       "      <td>NaN</td>\n",
       "      <td>276.0</td>\n",
       "    </tr>\n",
       "    <tr>\n",
       "      <th>Status update unavailable</th>\n",
       "      <td>484.0</td>\n",
       "      <td>1218.0</td>\n",
       "    </tr>\n",
       "    <tr>\n",
       "      <th>Unable to prosecute suspect</th>\n",
       "      <td>9643.0</td>\n",
       "      <td>13299.0</td>\n",
       "    </tr>\n",
       "  </tbody>\n",
       "</table>\n",
       "</div>"
      ],
      "text/plain": [
       "                                                  2020     2021\n",
       "Last outcome category                                          \n",
       "Action to be taken by another organisation       234.0      NaN\n",
       "Court result unavailable                        1398.0    818.0\n",
       "Investigation complete; no suspect identified  11376.0  13307.0\n",
       "Local resolution                                   NaN    276.0\n",
       "Status update unavailable                        484.0   1218.0\n",
       "Unable to prosecute suspect                     9643.0  13299.0"
      ]
     },
     "execution_count": 175,
     "metadata": {},
     "output_type": "execute_result"
    }
   ],
   "source": [
    "outcome_combined_top_5={\"2020\":outcome_combined_top_5_2020,\n",
    "                         \"2021\":outcome_combined_top_5_2021\n",
    "}\n",
    "outcome_combined_top_5=pd.DataFrame(outcome_combined_top_5)\n",
    "outcome_combined_top_5"
   ]
  },
  {
   "cell_type": "code",
   "execution_count": 176,
   "metadata": {},
   "outputs": [
    {
     "data": {
      "image/png": "[encoded data removed]",
      "text/plain": [
       "<Figure size 432x288 with 1 Axes>"
      ]
     },
     "metadata": {
      "needs_background": "light"
     },
     "output_type": "display_data"
    }
   ],
   "source": [
    "outcome_combined_top_5.plot(kind=\"bar\")\n",
    "plt.show()"
   ]
  },
  {
   "cell_type": "code",
   "execution_count": 184,
   "metadata": {},
   "outputs": [
    {
     "data": {
      "image/png": "[encoded data removed]",
      "text/plain": [
       "<Figure size 432x288 with 1 Axes>"
      ]
     },
     "metadata": {},
     "output_type": "display_data"
    }
   ],
   "source": [
    "outcome_combined_top_5[\"2021\"].plot(kind=\"pie\",title=\"Top 5 outcome for crimes commited in August 2020\")\n",
    "plt.show()"
   ]
  },
  {
   "cell_type": "code",
   "execution_count": 189,
   "metadata": {},
   "outputs": [
    {
     "data": {
      "image/png": "[encoded data removed]",
      "text/plain": [
       "<Figure size 432x288 with 1 Axes>"
      ]
     },
     "metadata": {},
     "output_type": "display_data"
    }
   ],
   "source": [
    "outcome_combined_top_5[\"2020\"].plot(kind=\"pie\",title=\"Top 5 outcome for crimes commited in August 2020\")\n",
    "plt.show()"
   ]
  },
  {
   "cell_type": "code",
   "execution_count": null,
   "metadata": {},
   "outputs": [],
   "source": []
  }
 ],
 "metadata": {
  "anaconda-cloud": {},
  "kernelspec": {
   "display_name": "Python 3 (ipykernel)",
   "language": "python",
   "name": "python3"
  },
  "language_info": {
   "codemirror_mode": {
    "name": "ipython",
    "version": 3
   },
   "file_extension": ".py",
   "mimetype": "text/x-python",
   "name": "python",
   "nbconvert_exporter": "python",
   "pygments_lexer": "ipython3",
   "version": "3.9.12"
  },
  "vscode": {
   "interpreter": {
    "hash": "e4c48b16a0c354d25ba2bae82838f8d23da4e013cfb39b75ab3692a369ac6069"
   }
  }
 },
 "nbformat": 4,
 "nbformat_minor": 2
}
